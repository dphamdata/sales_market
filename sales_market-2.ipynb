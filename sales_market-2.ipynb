{
 "cells": [
  {
   "cell_type": "markdown",
   "id": "c4cf2d7f-d211-48be-8368-39ae27c0a2db",
   "metadata": {},
   "source": [
    "# Import Pandas"
   ]
  },
  {
   "cell_type": "code",
   "execution_count": 3,
   "id": "269d56f5-f828-486b-9b72-2eb2464f90c9",
   "metadata": {},
   "outputs": [],
   "source": [
    "import pandas as pd"
   ]
  },
  {
   "cell_type": "markdown",
   "id": "21e89241-7eea-4ed2-af29-b7ca3d2d0d66",
   "metadata": {},
   "source": [
    "# Load CSV"
   ]
  },
  {
   "cell_type": "code",
   "execution_count": 11,
   "id": "79b7b4e2-542d-4e8e-8646-dfa840dad4f3",
   "metadata": {},
   "outputs": [],
   "source": [
    "df = pd.read_csv('Downloads/supermarket_sales.csv')"
   ]
  },
  {
   "cell_type": "code",
   "execution_count": 12,
   "id": "6e3683cb-e65a-4307-9589-5538e9a0975b",
   "metadata": {},
   "outputs": [
    {
     "name": "stdout",
     "output_type": "stream",
     "text": [
      "      Invoice ID Branch       City Customer type  Gender  \\\n",
      "0    750-67-8428      A     Yangon        Member  Female   \n",
      "1    226-31-3081      C  Naypyitaw        Normal  Female   \n",
      "2    631-41-3108      A     Yangon        Normal    Male   \n",
      "3    123-19-1176      A     Yangon        Member    Male   \n",
      "4    373-73-7910      A     Yangon        Normal    Male   \n",
      "..           ...    ...        ...           ...     ...   \n",
      "995  233-67-5758      C  Naypyitaw        Normal    Male   \n",
      "996  303-96-2227      B   Mandalay        Normal  Female   \n",
      "997  727-02-1313      A     Yangon        Member    Male   \n",
      "998  347-56-2442      A     Yangon        Normal    Male   \n",
      "999  849-09-3807      A     Yangon        Member  Female   \n",
      "\n",
      "               Product line  Unit price  Quantity   Tax 5%      Total  \\\n",
      "0         Health and beauty       74.69         7  26.1415   548.9715   \n",
      "1    Electronic accessories       15.28         5   3.8200    80.2200   \n",
      "2        Home and lifestyle       46.33         7  16.2155   340.5255   \n",
      "3         Health and beauty       58.22         8  23.2880   489.0480   \n",
      "4         Sports and travel       86.31         7  30.2085   634.3785   \n",
      "..                      ...         ...       ...      ...        ...   \n",
      "995       Health and beauty       40.35         1   2.0175    42.3675   \n",
      "996      Home and lifestyle       97.38        10  48.6900  1022.4900   \n",
      "997      Food and beverages       31.84         1   1.5920    33.4320   \n",
      "998      Home and lifestyle       65.82         1   3.2910    69.1110   \n",
      "999     Fashion accessories       88.34         7  30.9190   649.2990   \n",
      "\n",
      "          Date   Time      Payment    cogs  gross margin percentage  \\\n",
      "0     1/5/2019  13:08      Ewallet  522.83                 4.761905   \n",
      "1     3/8/2019  10:29         Cash   76.40                 4.761905   \n",
      "2     3/3/2019  13:23  Credit card  324.31                 4.761905   \n",
      "3    1/27/2019  20:33      Ewallet  465.76                 4.761905   \n",
      "4     2/8/2019  10:37      Ewallet  604.17                 4.761905   \n",
      "..         ...    ...          ...     ...                      ...   \n",
      "995  1/29/2019  13:46      Ewallet   40.35                 4.761905   \n",
      "996   3/2/2019  17:16      Ewallet  973.80                 4.761905   \n",
      "997   2/9/2019  13:22         Cash   31.84                 4.761905   \n",
      "998  2/22/2019  15:33         Cash   65.82                 4.761905   \n",
      "999  2/18/2019  13:28         Cash  618.38                 4.761905   \n",
      "\n",
      "     gross income  Rating  \n",
      "0         26.1415     9.1  \n",
      "1          3.8200     9.6  \n",
      "2         16.2155     7.4  \n",
      "3         23.2880     8.4  \n",
      "4         30.2085     5.3  \n",
      "..            ...     ...  \n",
      "995        2.0175     6.2  \n",
      "996       48.6900     4.4  \n",
      "997        1.5920     7.7  \n",
      "998        3.2910     4.1  \n",
      "999       30.9190     6.6  \n",
      "\n",
      "[1000 rows x 17 columns]\n"
     ]
    }
   ],
   "source": [
    "print(df)"
   ]
  },
  {
   "cell_type": "markdown",
   "id": "d556ca73-d5c0-487b-8fe3-a655d2097239",
   "metadata": {},
   "source": [
    "# Create a Pivot Table\n",
    "\n",
    "One bracket to select one column\n",
    "\n",
    "2 brackets to select more than one column"
   ]
  },
  {
   "cell_type": "code",
   "execution_count": 15,
   "id": "c8a652ab-f59a-486a-8611-c20ecdb9ec51",
   "metadata": {
    "tags": []
   },
   "outputs": [
    {
     "name": "stdout",
     "output_type": "stream",
     "text": [
      "     Gender            Product line      Total\n",
      "0    Female       Health and beauty   548.9715\n",
      "1    Female  Electronic accessories    80.2200\n",
      "2      Male      Home and lifestyle   340.5255\n",
      "3      Male       Health and beauty   489.0480\n",
      "4      Male       Sports and travel   634.3785\n",
      "..      ...                     ...        ...\n",
      "995    Male       Health and beauty    42.3675\n",
      "996  Female      Home and lifestyle  1022.4900\n",
      "997    Male      Food and beverages    33.4320\n",
      "998    Male      Home and lifestyle    69.1110\n",
      "999  Female     Fashion accessories   649.2990\n",
      "\n",
      "[1000 rows x 3 columns]\n"
     ]
    }
   ],
   "source": [
    "df = df[['Gender', 'Product line', 'Total']]\n",
    "print(df)"
   ]
  },
  {
   "cell_type": "markdown",
   "id": "614352ad-7b69-4f7b-932e-c028fec5c76d",
   "metadata": {},
   "source": [
    "# Create Pivot Table"
   ]
  },
  {
   "cell_type": "code",
   "execution_count": 17,
   "id": "274cdca9-db27-4e99-a89a-f814f684d44c",
   "metadata": {},
   "outputs": [],
   "source": [
    "pivot_table = df.pivot_table(index='Gender', columns='Product line', \n",
    "                             values='Total', aggfunc='sum').round(0)\n",
    "               "
   ]
  },
  {
   "cell_type": "code",
   "execution_count": 18,
   "id": "fb37cb5f-83d2-4585-b423-5863beb6cc19",
   "metadata": {},
   "outputs": [
    {
     "name": "stdout",
     "output_type": "stream",
     "text": [
      "Product line  Electronic accessories  Fashion accessories  Food and beverages  \\\n",
      "Gender                                                                          \n",
      "Female                    27102.0225            30437.400          33170.9175   \n",
      "Male                      27235.5090            23868.495          22973.9265   \n",
      "\n",
      "Product line  Health and beauty  Home and lifestyle  Sports and travel  \n",
      "Gender                                                                  \n",
      "Female               18560.9865          30036.8775         28574.7210  \n",
      "Male                 30632.7525          23825.0355         26548.1055  \n"
     ]
    }
   ],
   "source": [
    "print(pivot_table)"
   ]
  },
  {
   "cell_type": "markdown",
   "id": "9effc01f-3c06-400e-aa71-38421ae4ac0c",
   "metadata": {},
   "source": [
    "# Load to Excel "
   ]
  },
  {
   "cell_type": "code",
   "execution_count": 26,
   "id": "116636c7-79d6-4efd-b35b-bf08d9a737b5",
   "metadata": {},
   "outputs": [],
   "source": [
    "pivot_table.to_excel('pivot_table.xlsx', 'Report', startrow=4)"
   ]
  },
  {
   "cell_type": "markdown",
   "id": "469a1a02-3c47-4efc-b3d6-ccdd1ba34987",
   "metadata": {},
   "source": [
    "# Creating Bar Chart "
   ]
  },
  {
   "cell_type": "code",
   "execution_count": 40,
   "id": "3caeaf79-9919-47a5-a5d9-47fcd81523f0",
   "metadata": {},
   "outputs": [],
   "source": [
    "from openpyxl import load_workbook\n",
    "from openpyxl.chart import BarChart, Reference "
   ]
  },
  {
   "cell_type": "code",
   "execution_count": 31,
   "id": "4d393cbc-91c6-4016-9787-afbcb4fc8761",
   "metadata": {},
   "outputs": [],
   "source": [
    "wb = load_workbook('pivot_table.xlsx')"
   ]
  },
  {
   "cell_type": "code",
   "execution_count": 32,
   "id": "c5cac99e-4c44-40a8-a28f-e09142c22b3d",
   "metadata": {},
   "outputs": [],
   "source": [
    "sheet = wb['Report']"
   ]
  },
  {
   "cell_type": "markdown",
   "id": "a933d275-c96a-4656-99fe-9b01028032bd",
   "metadata": {},
   "source": [
    "# Setting Parameters based on where the pivot table is on the sheet"
   ]
  },
  {
   "cell_type": "code",
   "execution_count": 33,
   "id": "baac9a23-cf8c-49d9-8405-e3dc73998ce7",
   "metadata": {},
   "outputs": [],
   "source": [
    "min_column = wb.active.min_column"
   ]
  },
  {
   "cell_type": "code",
   "execution_count": 34,
   "id": "0ead6ab6-2f43-430d-9db0-f2b4e195a84c",
   "metadata": {},
   "outputs": [],
   "source": [
    "max_column = wb.active.max_column"
   ]
  },
  {
   "cell_type": "code",
   "execution_count": 35,
   "id": "4e155e0c-78fd-4a27-b74f-3df18520847b",
   "metadata": {},
   "outputs": [],
   "source": [
    "min_row = min_col=min_columnmin_col=min_columnwb.active.min_row"
   ]
  },
  {
   "cell_type": "code",
   "execution_count": 36,
   "id": "7c3cdeb3-052a-4c1d-8eb8-23e8391788e6",
   "metadata": {},
   "outputs": [],
   "source": [
    "max_row = wb.active.max_row"
   ]
  },
  {
   "cell_type": "markdown",
   "id": "bf308470-b002-474a-9cd8-1b4cbb529982",
   "metadata": {},
   "source": [
    "# Validate Ranges "
   ]
  },
  {
   "cell_type": "code",
   "execution_count": 38,
   "id": "04a9bd35-8e9b-4b37-abba-eab1ca6ae4f5",
   "metadata": {},
   "outputs": [
    {
     "name": "stdout",
     "output_type": "stream",
     "text": [
      "1\n",
      "7\n",
      "5\n",
      "7\n"
     ]
    }
   ],
   "source": [
    "print(min_column)\n",
    "print(max_column)\n",
    "print(min_row)\n",
    "print(max_row)"
   ]
  },
  {
   "cell_type": "markdown",
   "id": "198f85ba-fa58-4b8c-b3b4-ef2616e15ab3",
   "metadata": {},
   "source": [
    "# Set References"
   ]
  },
  {
   "cell_type": "code",
   "execution_count": 97,
   "id": "e98734f7-aa7f-4197-a2a8-7728905f468a",
   "metadata": {},
   "outputs": [],
   "source": [
    "barchart = BarChart()"
   ]
  },
  {
   "cell_type": "code",
   "execution_count": 89,
   "id": "35fc9d62-9b47-411c-8a02-5980a8aef5b6",
   "metadata": {},
   "outputs": [],
   "source": [
    "data = Reference (sheet, min_col=min_column+1, max_col=max_column, min_row=min_row, max_row=max_row)"
   ]
  },
  {
   "cell_type": "code",
   "execution_count": 88,
   "id": "f817666c-f3fc-4be3-9f2f-aaed6567cbce",
   "metadata": {},
   "outputs": [],
   "source": [
    "categegories = Reference (sheet, min_col=min_column, max_col=min_column, min_row=min_row+1, max_row=max_row)"
   ]
  },
  {
   "cell_type": "markdown",
   "id": "eca94dbb-810e-4f67-b07f-7c20df570aa6",
   "metadata": {},
   "source": [
    "# Add Data & Categories"
   ]
  },
  {
   "cell_type": "code",
   "execution_count": 101,
   "id": "a8863134-0f1f-45b5-8297-bd967e05dc01",
   "metadata": {},
   "outputs": [],
   "source": [
    "barchart.add_data(data, titles_from_data=True)\n",
    "barchart.set_categories(categories)"
   ]
  },
  {
   "cell_type": "markdown",
   "id": "e3721fd2-63cc-4d97-b7cc-a893130bd36d",
   "metadata": {},
   "source": [
    "# Add Chart "
   ]
  },
  {
   "cell_type": "code",
   "execution_count": 104,
   "id": "9f38c70c-7a51-4d8f-b51a-8441d9591f98",
   "metadata": {},
   "outputs": [],
   "source": [
    "sheet.add_chart(barchart, \"B12\")"
   ]
  },
  {
   "cell_type": "markdown",
   "id": "5ed8d15c-1a71-4489-af3f-47706fdae511",
   "metadata": {},
   "source": [
    "# Set Title & Style "
   ]
  },
  {
   "cell_type": "code",
   "execution_count": null,
   "id": "d9e4043f-1f4e-463f-93c8-854d74c2019e",
   "metadata": {},
   "outputs": [],
   "source": [
    "barchart.title = \"Sales by Product Line\"\n",
    "barchart.style = 3\n",
    "wb.save('barchart.xlsx')"
   ]
  }
 ],
 "metadata": {
  "kernelspec": {
   "display_name": "Python 3 (ipykernel)",
   "language": "python",
   "name": "python3"
  },
  "language_info": {
   "codemirror_mode": {
    "name": "ipython",
    "version": 3
   },
   "file_extension": ".py",
   "mimetype": "text/x-python",
   "name": "python",
   "nbconvert_exporter": "python",
   "pygments_lexer": "ipython3",
   "version": "3.9.13"
  }
 },
 "nbformat": 4,
 "nbformat_minor": 5
}
